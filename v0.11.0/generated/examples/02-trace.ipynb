{
 "cells": [
  {
   "cell_type": "markdown",
   "source": [
    "# Operator example: trace"
   ],
   "metadata": {}
  },
  {
   "cell_type": "markdown",
   "source": [
    "This page illustrates\n",
    "the \"linear operator\" feature\n",
    "of the Julia package\n",
    "[`LinearMapsAA`](https://github.com/JeffFessler/LinearMapsAA.jl).\n",
    "\n",
    "This page was generated from a single Julia file:\n",
    "[02-trace.jl](https://github.com/JeffFessler/LinearMapsAA.jl/blob/main/docs/lit/examples/02-trace.jl)."
   ],
   "metadata": {}
  },
  {
   "cell_type": "markdown",
   "source": [
    "### Setup"
   ],
   "metadata": {}
  },
  {
   "cell_type": "markdown",
   "source": [
    "Packages needed here."
   ],
   "metadata": {}
  },
  {
   "outputs": [],
   "cell_type": "code",
   "source": [
    "using LinearMapsAA\n",
    "using LinearAlgebra: tr, I\n",
    "using InteractiveUtils: versioninfo"
   ],
   "metadata": {},
   "execution_count": null
  },
  {
   "cell_type": "markdown",
   "source": [
    "### Overview"
   ],
   "metadata": {}
  },
  {
   "cell_type": "markdown",
   "source": [
    "The \"operator\" aspect of this package\n",
    "may seem unfamiliar\n",
    "to some readers\n",
    "who are used to thinking in terms of matrices and vectors,\n",
    "so this page\n",
    "describes a simple example:\n",
    "the matrix\n",
    "[trace](https://en.wikipedia.org/wiki/Trace_(linear_algebra))\n",
    "operation.\n",
    "The trace of a $N × N$ matrix\n",
    "is the sum of its $N$ diagonal elements.\n",
    "We tend to think of this a function,\n",
    "and indeed it is the `tr` function\n",
    "in the `LinearAlgebra` package.\n",
    "But it is a *linear* function\n",
    "so we can represent it as a linear operator\n",
    "$𝒜$ that maps a $N × N$ matrix into its trace.\n",
    "In other words,\n",
    "$𝒜 : \\mathbb{C}^{N × N} \\mapsto \\mathbb{C}$\n",
    "is defined by\n",
    "$𝒜 X = \\mathrm{tr}(X)$.\n",
    "Note that the product\n",
    "$𝒜 X$\n",
    "is *not* a \"matrix vector\" product;\n",
    "it is a linear operator acting on the matrix $X$.\n",
    "\n",
    "(Note that we use a\n",
    "fancy\n",
    "[unicode character](https://en.wikipedia.org/wiki/Mathematical_Alphanumeric_Symbols#Chart_for_the_Mathematical_Alphanumeric_Symbols_block)\n",
    "$𝒜$ here\n",
    "just as a reminder that it is an operator;\n",
    "in practical code we usually just use `A`.)\n",
    "\n",
    "The `LinearMapsAA` package\n",
    "can represent such an operator easily.\n",
    "Here is the definition for $N = 5$:"
   ],
   "metadata": {}
  },
  {
   "outputs": [],
   "cell_type": "code",
   "source": [
    "N = 5\n",
    "forw(X) = [tr(X)] # forward mapping function\n",
    "𝒜 = LinearMapAA(forw, (1, N*N); idim = (N,N), odim = (1,))"
   ],
   "metadata": {},
   "execution_count": null
  },
  {
   "cell_type": "markdown",
   "source": [
    "The `idim` argument specifies\n",
    "that the input is a matrix of size `N × N`\n",
    "and\n",
    "the `odim` argument specifies\n",
    "that the output is vector of size `(1,)`."
   ],
   "metadata": {}
  },
  {
   "cell_type": "markdown",
   "source": [
    "One subtlety with this particular didactic example\n",
    "is that the ordinary trace yields a scalar,\n",
    "but\n",
    "[`LinearMaps.jl`](https://github.com/JuliaLinearAlgebra/LinearMaps.jl)\n",
    "is (understandably) designed exclusively\n",
    "for mapping vectors to vectors,\n",
    "so we use `[tr(X)]`\n",
    "above so that the output is a 1-element `Vector`.\n",
    "This behavior\n",
    "is consistent with what happens\n",
    "when one multiplies\n",
    "a `1 × N` matrix with a vector in $\\mathbb{C}^N$."
   ],
   "metadata": {}
  },
  {
   "cell_type": "markdown",
   "source": [
    "Here is a verification\n",
    "that applying this operator\n",
    "to a matrix\n",
    "produces the correct result:"
   ],
   "metadata": {}
  },
  {
   "outputs": [],
   "cell_type": "code",
   "source": [
    "X = ones(5)*(1:5)'\n",
    "𝒜 * X, tr(X), (N*(N+1))÷2"
   ],
   "metadata": {},
   "execution_count": null
  },
  {
   "cell_type": "markdown",
   "source": [
    "Although\n",
    "$𝒜$ here\n",
    "is *not* a matrix,\n",
    "we can convert it to a matrix\n",
    "(at least when $N$ is sufficiently small)\n",
    "to perhaps understand it better:"
   ],
   "metadata": {}
  },
  {
   "outputs": [],
   "cell_type": "code",
   "source": [
    "A = Matrix(𝒜)\n",
    "A = Int8.(A) # just for nicer display"
   ],
   "metadata": {},
   "execution_count": null
  },
  {
   "cell_type": "markdown",
   "source": [
    "The pattern of 0 and 1 elements\n",
    "is more obvious\n",
    "when reshaped:"
   ],
   "metadata": {}
  },
  {
   "outputs": [],
   "cell_type": "code",
   "source": [
    "reshape(A, N, N)"
   ],
   "metadata": {},
   "execution_count": null
  },
  {
   "cell_type": "markdown",
   "source": [
    "## Adjoint\n",
    "\n",
    "Although this is largely a didactic example,\n",
    "there are optimization problems\n",
    "with\n",
    "[trace constraints](http://www.optimization-online.org/DB_HTML/2018/08/6765.html)\n",
    "of the form\n",
    "$𝒜 X = b$.\n",
    "To solve such problems,\n",
    "often one would also need the\n",
    "[adjoint](https://en.wikipedia.org/wiki/Adjoint)\n",
    "of the operator\n",
    "$𝒜$.\n",
    "\n",
    "Mathematically, and adjoint is a generalization\n",
    "of the (Hermitian) transpose of a matrix.\n",
    "For a (bounded) linear mapping $𝒜$ between\n",
    "inner product space $𝒳$\n",
    "with inner product $⟨ \\cdot, \\cdot \\rangle_𝒳$\n",
    "and inner product space $𝒴$\n",
    "with inner product $⟨ \\cdot, \\cdot \\rangle_𝒴,$\n",
    "the adjoint of $𝒜$, denoted $𝒜'$,\n",
    "is the unique bound linear mapping\n",
    "that satisfies\n",
    "$⟨ 𝒜 x, y \\rangle_𝒴 = ⟨ x, 𝒜' y \\rangle_𝒳$\n",
    "for all $x ∈ 𝒳$ and $y ∈ 𝒴$.\n",
    "\n",
    "Here, let\n",
    "$𝒳$ denote the vector space of $N × N$ matrices\n",
    "with the\n",
    "Frobenius inner product for matrices:\n",
    "$⟨ A, B \\rangle_𝒳 = \\mathrm{tr}(A'B)$.\n",
    "Let\n",
    "$𝒴$\n",
    "simply be $\\mathbb{C}^1$\n",
    "with the usual inner product\n",
    "$⟨ x, y \\rangle_𝒴 = x_1^* y_1$.\n",
    "\n",
    "With those definitions,\n",
    "one can verify that the adjoint of\n",
    "$𝒜$\n",
    "is the mapping\n",
    "$𝒜' c = c_1 \\mathbf{I}_N$,\n",
    "for $c ∈ \\mathbb{C}^1$,\n",
    "where\n",
    "$\\mathbf{I}_N$\n",
    "denotes the\n",
    "$N × N$ identity matrix.\n",
    "\n",
    "Here is the `LinearMapAO`\n",
    "that includes the adjoint:"
   ],
   "metadata": {}
  },
  {
   "outputs": [],
   "cell_type": "code",
   "source": [
    "back(y) = y[1] * I(N) # remember `y` is a 1-vector\n",
    "𝒜 = LinearMapAA(forw, back, (1, N*N); idim = (N,N), odim = (1,))"
   ],
   "metadata": {},
   "execution_count": null
  },
  {
   "cell_type": "markdown",
   "source": [
    "Here is a verification that the adjoint is correct (very important!):"
   ],
   "metadata": {}
  },
  {
   "outputs": [],
   "cell_type": "code",
   "source": [
    "@assert Matrix(𝒜)' == Matrix(𝒜')\n",
    "Int8.(Matrix(𝒜'))"
   ],
   "metadata": {},
   "execution_count": null
  },
  {
   "cell_type": "markdown",
   "source": [
    "### Reproducibility"
   ],
   "metadata": {}
  },
  {
   "cell_type": "markdown",
   "source": [
    "This page was generated with the following version of Julia:"
   ],
   "metadata": {}
  },
  {
   "outputs": [],
   "cell_type": "code",
   "source": [
    "io = IOBuffer()\n",
    "versioninfo(io)\n",
    "split(String(take!(io)), '\\n')"
   ],
   "metadata": {},
   "execution_count": null
  },
  {
   "cell_type": "markdown",
   "source": [
    "And with the following package versions"
   ],
   "metadata": {}
  },
  {
   "outputs": [],
   "cell_type": "code",
   "source": [
    "import Pkg; Pkg.status()"
   ],
   "metadata": {},
   "execution_count": null
  },
  {
   "cell_type": "markdown",
   "source": [
    "---\n",
    "\n",
    "*This notebook was generated using [Literate.jl](https://github.com/fredrikekre/Literate.jl).*"
   ],
   "metadata": {}
  }
 ],
 "nbformat_minor": 3,
 "metadata": {
  "language_info": {
   "file_extension": ".jl",
   "mimetype": "application/julia",
   "name": "julia",
   "version": "1.7.3"
  },
  "kernelspec": {
   "name": "julia-1.7",
   "display_name": "Julia 1.7.3",
   "language": "julia"
  }
 },
 "nbformat": 4
}
