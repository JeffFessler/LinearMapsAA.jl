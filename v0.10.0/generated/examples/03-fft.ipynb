{
 "cells": [
  {
   "cell_type": "markdown",
   "source": [
    "# Operator example: FFT"
   ],
   "metadata": {}
  },
  {
   "cell_type": "markdown",
   "source": [
    "This page illustrates\n",
    "the \"linear operator\" feature\n",
    "of the Julia package\n",
    "[`LinearMapsAA`](https://github.com/JeffFessler/LinearMapsAA.jl)\n",
    "for the case of a multi-dimensional FFT operation.\n",
    "\n",
    "This page was generated from a single Julia file:\n",
    "[03-fft.jl](https://github.com/JeffFessler/LinearMapsAA.jl/blob/main/docs/lit/examples/03-fft.jl)."
   ],
   "metadata": {}
  },
  {
   "cell_type": "markdown",
   "source": [
    "### Setup"
   ],
   "metadata": {}
  },
  {
   "cell_type": "markdown",
   "source": [
    "Packages needed here."
   ],
   "metadata": {}
  },
  {
   "outputs": [],
   "cell_type": "code",
   "source": [
    "using LinearMapsAA\n",
    "using FFTW: fft, bfft, fft!, bfft!\n",
    "using MIRTjim: jim, prompt\n",
    "using LazyGrids: btime\n",
    "using BenchmarkTools: @benchmark\n",
    "using InteractiveUtils: versioninfo"
   ],
   "metadata": {},
   "execution_count": null
  },
  {
   "cell_type": "markdown",
   "source": [
    "The following line is helpful when running this file as a script;\n",
    "this way it will prompt user to hit a key after each figure is displayed."
   ],
   "metadata": {}
  },
  {
   "outputs": [],
   "cell_type": "code",
   "source": [
    "isinteractive() ? jim(:prompt, true) : prompt(:draw);"
   ],
   "metadata": {},
   "execution_count": null
  },
  {
   "cell_type": "markdown",
   "source": [
    "### Overview"
   ],
   "metadata": {}
  },
  {
   "cell_type": "markdown",
   "source": [
    "A 1D N-point discrete Fourier transform (DFT)\n",
    "is a linear operation\n",
    "that is naturally represented as a `N × N` matrix.\n",
    "\n",
    "The multi-dimensional DFT\n",
    "is a linear mapping\n",
    "that could be represented as a matrix,\n",
    "using the `vec(⋅)` of its arguments,\n",
    "but it is more naturally represented\n",
    "as a linear operator $A$.\n",
    "For 2D images of size $M × N$,\n",
    "we can think the DFT\n",
    "as an operator\n",
    "$A$ that maps a $M × N$ matrix into a $M × N$ matrix of DFT coefficients.\n",
    "In other words,\n",
    "$A : \\mathbb{C}^{M × N} \\mapsto \\mathbb{C}^{M × N}$.\n",
    "\n",
    "The `LinearMapsAA` package\n",
    "can represent such an operator easily."
   ],
   "metadata": {}
  },
  {
   "cell_type": "markdown",
   "source": [
    "We first define appropriate forward and adjoint functions.\n",
    "We use `fft!` and `bfft!` to avoid unnecessary memory allocations."
   ],
   "metadata": {}
  },
  {
   "outputs": [],
   "cell_type": "code",
   "source": [
    "forw!(y, x) =  fft!(copyto!(y, x)) # forward mapping function\n",
    "back!(x, y) = bfft!(copyto!(x, y)) # adjoint mapping function"
   ],
   "metadata": {},
   "execution_count": null
  },
  {
   "cell_type": "markdown",
   "source": [
    "Below is the operator definition for $(M,N) = (8,16)$.\n",
    "\n",
    "Because FFT returns complex numbers, we must use `T=ComplexF32` here\n",
    "for `LinearMaps` to work properly."
   ],
   "metadata": {}
  },
  {
   "outputs": [],
   "cell_type": "code",
   "source": [
    "M,N = 16,8\n",
    "T = ComplexF32\n",
    "A = LinearMapAA(forw!, back!, (M*N, M*N); idim = (M,N), odim = (M,N), T)"
   ],
   "metadata": {},
   "execution_count": null
  },
  {
   "cell_type": "markdown",
   "source": [
    "The `idim` argument specifies\n",
    "that the input is a matrix of size `M × N`\n",
    "and\n",
    "the `odim` argument specifies\n",
    "that the output is a matrix of size `(M,N)`."
   ],
   "metadata": {}
  },
  {
   "cell_type": "markdown",
   "source": [
    "Here is some verification\n",
    "that applying this operator\n",
    "to a matrix\n",
    "produces a correct result:"
   ],
   "metadata": {}
  },
  {
   "outputs": [],
   "cell_type": "code",
   "source": [
    "X = ones(M,N)\n",
    "@assert A * X ≈ M*N * ((1:M) .== 1)*((1:N) .== 1)' # Kronecker impulse\n",
    "X = rand(T, M, N)\n",
    "@assert A * X ≈ fft(X)"
   ],
   "metadata": {},
   "execution_count": null
  },
  {
   "cell_type": "markdown",
   "source": [
    "Although\n",
    "$A$ here is *not* a matrix,\n",
    "we can convert it to a matrix\n",
    "(at least when $M N$ is sufficiently small)\n",
    "to perhaps understand it better:"
   ],
   "metadata": {}
  },
  {
   "outputs": [],
   "cell_type": "code",
   "source": [
    "Amat = Matrix(A)\n",
    "using MIRTjim: jim\n",
    "jim(\n",
    " jim(real(Amat)', \"Real(A)\"; prompt=false),\n",
    " jim(imag(Amat)', \"Imag(A)\"; prompt=false),\n",
    ")"
   ],
   "metadata": {},
   "execution_count": null
  },
  {
   "cell_type": "markdown",
   "source": [
    "## Adjoint\n",
    "\n",
    "Here is a verification that the\n",
    "[adjoint](https://en.wikipedia.org/wiki/Adjoint)\n",
    "of the operator\n",
    "$A$\n",
    "is working correctly."
   ],
   "metadata": {}
  },
  {
   "outputs": [],
   "cell_type": "code",
   "source": [
    "@assert Matrix(A)' ≈ Matrix(A')"
   ],
   "metadata": {},
   "execution_count": null
  },
  {
   "cell_type": "markdown",
   "source": [
    "Some users\n",
    "might wonder if there is \"overhead\"\n",
    "in using the overloaded linear mapping `A * x`\n",
    "or `mul!(y, A, x)`\n",
    "compared to directly calling\n",
    "`fft!(copyto!(y), x)`.\n",
    "\n",
    "Here are some timing tests\n",
    "that confirm that `LinearMapsAA` does not incur overhead.\n",
    "\n",
    "We deliberately choose very small `M,N`,\n",
    "because any overhead will be most apparent\n",
    "when the `fft` computation itself is fast."
   ],
   "metadata": {}
  },
  {
   "outputs": [],
   "cell_type": "code",
   "source": [
    "x = rand(ComplexF32, M, N)\n",
    "y1 = similar(x)\n",
    "y2 = similar(x)\n",
    "\n",
    "mul!(y1, A, x)\n",
    "forw!(y2, x)\n",
    "@assert y1 == y2\n",
    "mul!(y1, A', x)\n",
    "back!(y2, x)\n",
    "@assert y1 == y2"
   ],
   "metadata": {},
   "execution_count": null
  },
  {
   "cell_type": "markdown",
   "source": [
    "time forward fft:"
   ],
   "metadata": {}
  },
  {
   "outputs": [],
   "cell_type": "code",
   "source": [
    "timer(t) = btime(t; unit=:μs)\n",
    "t = @benchmark forw!($y2, $x)       # 19.1 us (31 alloc, 2K)\n",
    "timer(t)"
   ],
   "metadata": {},
   "execution_count": null
  },
  {
   "cell_type": "markdown",
   "source": [
    "compare to `LinearMapsAA` version:"
   ],
   "metadata": {}
  },
  {
   "outputs": [],
   "cell_type": "code",
   "source": [
    "t = @benchmark mul!($y1, $A, $x)    # 18.1 us (44 alloc, 4K)\n",
    "timer(t)"
   ],
   "metadata": {},
   "execution_count": null
  },
  {
   "cell_type": "markdown",
   "source": [
    "time backward fft:"
   ],
   "metadata": {}
  },
  {
   "outputs": [],
   "cell_type": "code",
   "source": [
    "t = @benchmark back!($y2, $x)       # 19.443 μs (31 allocations: 2.12 KiB)\n",
    "timer(t)"
   ],
   "metadata": {},
   "execution_count": null
  },
  {
   "cell_type": "markdown",
   "source": [
    "compare to `LinearMapsAA` version:"
   ],
   "metadata": {}
  },
  {
   "outputs": [],
   "cell_type": "code",
   "source": [
    "t = @benchmark mul!($y1, $(A'), $x) # 17.855 μs (44 allocations: 4.00 KiB)\n",
    "timer(t)"
   ],
   "metadata": {},
   "execution_count": null
  },
  {
   "cell_type": "markdown",
   "source": [
    "### Reproducibility"
   ],
   "metadata": {}
  },
  {
   "cell_type": "markdown",
   "source": [
    "This page was generated with the following version of Julia:"
   ],
   "metadata": {}
  },
  {
   "outputs": [],
   "cell_type": "code",
   "source": [
    "io = IOBuffer()\n",
    "versioninfo(io)\n",
    "split(String(take!(io)), '\\n')"
   ],
   "metadata": {},
   "execution_count": null
  },
  {
   "cell_type": "markdown",
   "source": [
    "And with the following package versions"
   ],
   "metadata": {}
  },
  {
   "outputs": [],
   "cell_type": "code",
   "source": [
    "import Pkg; Pkg.status()"
   ],
   "metadata": {},
   "execution_count": null
  },
  {
   "cell_type": "markdown",
   "source": [
    "---\n",
    "\n",
    "*This notebook was generated using [Literate.jl](https://github.com/fredrikekre/Literate.jl).*"
   ],
   "metadata": {}
  }
 ],
 "nbformat_minor": 3,
 "metadata": {
  "language_info": {
   "file_extension": ".jl",
   "mimetype": "application/julia",
   "name": "julia",
   "version": "1.7.2"
  },
  "kernelspec": {
   "name": "julia-1.7",
   "display_name": "Julia 1.7.2",
   "language": "julia"
  }
 },
 "nbformat": 4
}
